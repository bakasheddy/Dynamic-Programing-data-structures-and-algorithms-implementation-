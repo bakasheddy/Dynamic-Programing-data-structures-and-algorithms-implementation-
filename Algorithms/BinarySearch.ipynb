{
 "cells": [
  {
   "cell_type": "markdown",
   "id": "f6baacee",
   "metadata": {},
   "source": [
    "with loops"
   ]
  },
  {
   "cell_type": "code",
   "execution_count": 4,
   "id": "ac0da91f",
   "metadata": {},
   "outputs": [
    {
     "name": "stdout",
     "output_type": "stream",
     "text": [
      "index of searched item is: 3\n"
     ]
    }
   ],
   "source": [
    "def binary_search(searchlist, item):\n",
    "    left = 0\n",
    "    right = len(searchlist) - 1\n",
    "    \n",
    "    while True:\n",
    "        mid_index = (left + right) // 2\n",
    "        mid_number = searchlist[mid_index]\n",
    "    \n",
    "        if item == mid_number:\n",
    "            return mid_index\n",
    "        if item < mid_number:\n",
    "            right = mid_index - 1\n",
    "        else:\n",
    "            left = mid_index + 1\n",
    "            \n",
    "    return -1\n",
    "\n",
    "if __name__ == '__main__':\n",
    "    slist = [1,2,4,6,7,8,33,44,55,77,88]\n",
    "    to_find = 6\n",
    "    bs = binary_search(slist,to_find)\n",
    "    print(f'index of searched item is: {bs}')   "
   ]
  },
  {
   "cell_type": "markdown",
   "id": "46802153",
   "metadata": {},
   "source": [
    "with recursion"
   ]
  },
  {
   "cell_type": "code",
   "execution_count": 7,
   "id": "90ff364d",
   "metadata": {},
   "outputs": [
    {
     "name": "stdout",
     "output_type": "stream",
     "text": [
      "Index of searched item is: 0\n"
     ]
    }
   ],
   "source": [
    "def bin_search(lis, item, left, right):\n",
    "    if left > right:\n",
    "        return -1  # Item not found\n",
    "\n",
    "    mid_index = (left + right) // 2\n",
    "    mid_num = lis[mid_index]\n",
    "\n",
    "    if item == mid_num:\n",
    "        return mid_index\n",
    "    elif item < mid_num:\n",
    "        return bin_search(lis, item, left, mid_index - 1)\n",
    "    else:\n",
    "        return bin_search(lis, item, mid_index + 1, right)\n",
    "\n",
    "if __name__ == '__main__':\n",
    "    slist = [1, 2, 4, 6, 7, 8, 33, 44, 55, 77, 88]\n",
    "    to_find = 1\n",
    "    bs = bin_search(slist, to_find, 0, len(slist) - 1)\n",
    "    print(f'Index of searched item is: {bs}')\n"
   ]
  },
  {
   "cell_type": "code",
   "execution_count": 16,
   "id": "13aad6c4",
   "metadata": {},
   "outputs": [
    {
     "name": "stdout",
     "output_type": "stream",
     "text": [
      "2 appeared 3 time(s) in the list.\n",
      "3 appeared 1 time(s) in the list.\n",
      "4 appeared 1 time(s) in the list.\n",
      "1 appeared 2 time(s) in the list.\n"
     ]
    }
   ],
   "source": [
    "slist = [2,2,3,4,1,1,2]\n",
    "count_dict = {}\n",
    "for num in slist:\n",
    "    if num in count_dict:\n",
    "        count_dict[num] += 1\n",
    "    else:\n",
    "        count_dict[num] = 1\n",
    "\n",
    "for num, count in count_dict.items():\n",
    "    print(f\"{num} appeared {count} time(s) in the list.\")"
   ]
  },
  {
   "cell_type": "code",
   "execution_count": 3,
   "id": "110545bb",
   "metadata": {},
   "outputs": [
    {
     "data": {
      "text/plain": [
       "10333147966386144929666651337523200000000"
      ]
     },
     "execution_count": 3,
     "metadata": {},
     "output_type": "execute_result"
    }
   ],
   "source": [
    "def fac(n):\n",
    "    if n == 0 or n == 1:\n",
    "        return n\n",
    "    return n * fac(n-1)\n",
    "\n",
    "fac(35)"
   ]
  },
  {
   "cell_type": "code",
   "execution_count": null,
   "id": "1a5295bc",
   "metadata": {},
   "outputs": [],
   "source": []
  }
 ],
 "metadata": {
  "kernelspec": {
   "display_name": "Python 3 (ipykernel)",
   "language": "python",
   "name": "python3"
  },
  "language_info": {
   "codemirror_mode": {
    "name": "ipython",
    "version": 3
   },
   "file_extension": ".py",
   "mimetype": "text/x-python",
   "name": "python",
   "nbconvert_exporter": "python",
   "pygments_lexer": "ipython3",
   "version": "3.9.13"
  }
 },
 "nbformat": 4,
 "nbformat_minor": 5
}
