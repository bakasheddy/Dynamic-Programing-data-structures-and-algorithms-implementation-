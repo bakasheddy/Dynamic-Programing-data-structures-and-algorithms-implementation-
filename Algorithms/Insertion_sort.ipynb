{
 "cells": [
  {
   "cell_type": "code",
   "execution_count": 10,
   "id": "a60ac9df",
   "metadata": {},
   "outputs": [
    {
     "name": "stdout",
     "output_type": "stream",
     "text": [
      "[0, 1, 3, 5, 5, 7, 9]\n"
     ]
    }
   ],
   "source": [
    "def swap(a,b,arr):\n",
    "    if a!=b:\n",
    "        arr[a], arr[b] = arr[b], arr[a]\n",
    "        \n",
    "def part(ele, start, end):\n",
    "    pi = start\n",
    "    pe = ele[pi]\n",
    "    \n",
    "    while start < end:\n",
    "        while start < end and ele[start]<= pe:\n",
    "            start +=1\n",
    "        while ele[end] > pe:\n",
    "            end -= 1\n",
    "        if start < end:\n",
    "            swap(start, end,ele)\n",
    "    swap(end,pi, ele)\n",
    "    return end\n",
    "\n",
    "def sorrt(ele, start, end):\n",
    "    if start < end:\n",
    "        pii = part(ele,start,end)\n",
    "        sorrt(ele,pii+1,end)\n",
    "        sorrt(ele,start,pii-1)\n",
    "    \n",
    "if __name__=='__main__':\n",
    "    lis = [9,0,1,7,5,5,3]\n",
    "    sorrt(lis, 0, len(lis)-1)\n",
    "    print(lis)"
   ]
  },
  {
   "cell_type": "code",
   "execution_count": 17,
   "id": "c240960d",
   "metadata": {},
   "outputs": [
    {
     "name": "stdout",
     "output_type": "stream",
     "text": [
      "[0, 1, 3, 5, 5, 7, 9]\n"
     ]
    }
   ],
   "source": [
    "def insertionsort(element):\n",
    "    for i in range(1, len(element)):\n",
    "        current_anchor = element[i]\n",
    "        j = i - 1 \n",
    "        while j >= 0 and element[j] > current_anchor:\n",
    "            element[j+1] = element[j]\n",
    "            j -=1\n",
    "        element[j + 1] = current_anchor\n",
    "        \n",
    "if __name__=='__main__':\n",
    "    lis = [9,0,1,7,5,5,3]\n",
    "    insertionsort(lis)\n",
    "    print(lis)\n",
    "            "
   ]
  },
  {
   "cell_type": "code",
   "execution_count": 1,
   "id": "7140bd6b",
   "metadata": {},
   "outputs": [
    {
     "name": "stdout",
     "output_type": "stream",
     "text": [
      "Sorted array is: [5, 6, 11, 12, 13]\n"
     ]
    }
   ],
   "source": [
    "def insertion_sort(arr):\n",
    "    # Traverse through 1 to len(arr)\n",
    "    for i in range(1, len(arr)):\n",
    "        key = arr[i]\n",
    "\n",
    "        # Move elements of arr[0..i-1], that are greater than key,\n",
    "        # to one position ahead of their current position\n",
    "        j = i - 1\n",
    "        while j >= 0 and key < arr[j]:\n",
    "            arr[j + 1] = arr[j]\n",
    "            j -= 1\n",
    "        arr[j + 1] = key\n",
    "\n",
    "if __name__ == '__main__':\n",
    "    # Example usage\n",
    "    arr = [12, 11, 13, 5, 6]\n",
    "    insertion_sort(arr)\n",
    "    print(\"Sorted array is:\", arr)\n"
   ]
  },
  {
   "cell_type": "code",
   "execution_count": null,
   "id": "032d6aec",
   "metadata": {},
   "outputs": [],
   "source": []
  }
 ],
 "metadata": {
  "kernelspec": {
   "display_name": "Python 3 (ipykernel)",
   "language": "python",
   "name": "python3"
  },
  "language_info": {
   "codemirror_mode": {
    "name": "ipython",
    "version": 3
   },
   "file_extension": ".py",
   "mimetype": "text/x-python",
   "name": "python",
   "nbconvert_exporter": "python",
   "pygments_lexer": "ipython3",
   "version": "3.9.13"
  }
 },
 "nbformat": 4,
 "nbformat_minor": 5
}
