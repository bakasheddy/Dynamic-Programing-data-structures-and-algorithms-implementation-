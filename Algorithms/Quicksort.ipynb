{
 "cells": [
  {
   "cell_type": "code",
   "execution_count": 6,
   "id": "ead44974",
   "metadata": {},
   "outputs": [
    {
     "name": "stdout",
     "output_type": "stream",
     "text": [
      "[2, 2, 4, 7, 8, 8, 9, 11, 31]\n",
      "0.0\n"
     ]
    }
   ],
   "source": [
    "import time\n",
    "def swap(arr, a, b):\n",
    "    if a != b:\n",
    "        arr[a], arr[b] = arr[b], arr[a]\n",
    "\n",
    "def partition(elements, start, end):\n",
    "    pivot_index = start\n",
    "    pivot_element = elements[pivot_index]\n",
    "\n",
    "    while start < end:\n",
    "        while start < len(elements) and elements[start] <= pivot_element:\n",
    "            start += 1\n",
    "        while elements[end] > pivot_element:\n",
    "            end -= 1\n",
    "\n",
    "        if start < end:\n",
    "            swap(elements, start, end)\n",
    "    swap(elements, pivot_index, end)\n",
    "    return end\n",
    "\n",
    "def quicksort(elements, start, end):\n",
    "    if start < end:\n",
    "        pi = partition(elements, start, end)\n",
    "        quicksort(elements, start, pi - 1)  # left partition\n",
    "        quicksort(elements, pi + 1, end)  # right partition\n",
    "\n",
    "if __name__ == '__main__':\n",
    "    stime = time.time()\n",
    "    lis = [9, 2, 31, 7, 2, 8, 4, 8, 11]\n",
    "    quicksort(lis, 0, len(lis) - 1)\n",
    "    stime = time.time()\n",
    "    print(lis)\n",
    "    etime = time.time()\n",
    "    print(etime-stime)\n"
   ]
  },
  {
   "cell_type": "code",
   "execution_count": 2,
   "id": "feb0f1a2",
   "metadata": {},
   "outputs": [
    {
     "name": "stdout",
     "output_type": "stream",
     "text": [
      "[0, 1, 2, 2, 3, 4, 6, 7, 8]\n",
      "0.0\n"
     ]
    }
   ],
   "source": [
    "import time\n",
    "def quicksortt(element):\n",
    "    if len(element) <= 1:\n",
    "        return element\n",
    "    \n",
    "    pivot = element[len(element)//2]\n",
    "    \n",
    "    left = [x for x in element if x < pivot]\n",
    "    mid = [x for x in element if x == pivot]\n",
    "    right = [x for x in element if x > pivot]\n",
    "    \n",
    "    return quicksortt(left) + mid + quicksortt(right)\n",
    "stime = time.time()\n",
    "lis = [2,6,1,4,8,0,7,2,3]   \n",
    "lis=quicksortt(lis)\n",
    "print(lis)\n",
    "etime = time.time()\n",
    "print(etime-stime)\n",
    "\n"
   ]
  },
  {
   "cell_type": "code",
   "execution_count": null,
   "id": "53dd2767",
   "metadata": {},
   "outputs": [],
   "source": []
  }
 ],
 "metadata": {
  "kernelspec": {
   "display_name": "Python 3 (ipykernel)",
   "language": "python",
   "name": "python3"
  },
  "language_info": {
   "codemirror_mode": {
    "name": "ipython",
    "version": 3
   },
   "file_extension": ".py",
   "mimetype": "text/x-python",
   "name": "python",
   "nbconvert_exporter": "python",
   "pygments_lexer": "ipython3",
   "version": "3.9.13"
  }
 },
 "nbformat": 4,
 "nbformat_minor": 5
}
