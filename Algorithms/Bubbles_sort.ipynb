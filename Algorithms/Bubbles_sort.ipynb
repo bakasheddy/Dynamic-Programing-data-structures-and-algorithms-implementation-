{
 "cells": [
  {
   "cell_type": "code",
   "execution_count": 8,
   "id": "fb3de507",
   "metadata": {},
   "outputs": [
    {
     "name": "stdout",
     "output_type": "stream",
     "text": [
      "[1, 2, 3, 4, 5, 6, 7, 8]\n"
     ]
    }
   ],
   "source": [
    "def bubble(to_sort):\n",
    "    size = len(to_sort)\n",
    "    swapped = False\n",
    "    \n",
    "    for i in range(size-1):\n",
    "        for j in range(size-1-i):\n",
    "            if to_sort[j] > to_sort[j+1]:\n",
    "                # Swap the elements\n",
    "                to_sort[j], to_sort[j+1] = to_sort[j+1], to_sort[j]\n",
    "                swapped = True\n",
    "        if not swapped:\n",
    "            break\n",
    "\n",
    "if __name__ == '__main__':\n",
    "    list1 = [5,3,1,6,7,4,2,8]\n",
    "    bubble(list1)\n",
    "    print(list1)\n"
   ]
  },
  {
   "cell_type": "code",
   "execution_count": 26,
   "id": "5c843e62",
   "metadata": {},
   "outputs": [
    {
     "name": "stdout",
     "output_type": "stream",
     "text": [
      "[{'name': 'pete', 'trans_amount': 200, 'device': 'blackberry'}, {'name': 'jon', 'trans_amount': 500, 'device': 'google pixel'}, {'name': 'mat', 'trans_amount': 1000, 'device': 'vivo'}, {'name': 'dre', 'trans_amount': 1000, 'device': 'android'}, {'name': 'liv', 'trans_amount': 2000, 'device': 'iphone'}]\n"
     ]
    }
   ],
   "source": [
    "def bubble_sort_by(to_sort, key):\n",
    "    size = len(to_sort)\n",
    "    swapped = False\n",
    "    \n",
    "    for i in range(size-1):\n",
    "        for j in range(size-1-i):\n",
    "            if to_sort[j][key] > to_sort[j+1][key]:\n",
    "                # Swap the elements\n",
    "                to_sort[j], to_sort[j+1] = to_sort[j+1], to_sort[j]\n",
    "                swapped = True\n",
    "        if not swapped:\n",
    "            break\n",
    "            \n",
    "            \n",
    "if __name__ == '__main__':\n",
    "    lis = [{'name':'mat', 'trans_amount': 1000,'device':'vivo'},\n",
    "       {'name':'pete','trans_amount':200,'device':'blackberry'},\n",
    "       {'name':'liv','trans_amount':2000,'device':'iphone'},\n",
    "       {'name':'jon','trans_amount':500,'device':'google pixel'},\n",
    "       {'name':'dre','trans_amount':1000,'device':'android'}\n",
    "      ]\n",
    "    \n",
    "    bubble_sort_by(lis, 'trans_amount')\n",
    "    print(lis)\n",
    "\n",
    "\n"
   ]
  },
  {
   "cell_type": "code",
   "execution_count": null,
   "id": "d2a97c3e",
   "metadata": {},
   "outputs": [],
   "source": []
  }
 ],
 "metadata": {
  "kernelspec": {
   "display_name": "Python 3 (ipykernel)",
   "language": "python",
   "name": "python3"
  },
  "language_info": {
   "codemirror_mode": {
    "name": "ipython",
    "version": 3
   },
   "file_extension": ".py",
   "mimetype": "text/x-python",
   "name": "python",
   "nbconvert_exporter": "python",
   "pygments_lexer": "ipython3",
   "version": "3.9.13"
  }
 },
 "nbformat": 4,
 "nbformat_minor": 5
}
