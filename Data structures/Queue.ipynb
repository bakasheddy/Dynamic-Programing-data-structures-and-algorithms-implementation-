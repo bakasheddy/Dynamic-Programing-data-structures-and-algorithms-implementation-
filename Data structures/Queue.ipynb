{
 "cells": [
  {
   "cell_type": "code",
   "execution_count": 10,
   "id": "983ce0f5",
   "metadata": {},
   "outputs": [
    {
     "data": {
      "text/plain": [
       "{'company': 'alibaba', 'timestamp': '15 apr, 11:05 AM', 'price': 102}"
      ]
     },
     "execution_count": 10,
     "metadata": {},
     "output_type": "execute_result"
    }
   ],
   "source": [
    "from collections import deque\n",
    "\n",
    "class Queue:\n",
    "    def __init__(self):\n",
    "        self.container = deque()\n",
    "        \n",
    "    def enqueue(self, val):\n",
    "        self.container.appendleft(val)\n",
    "        \n",
    "    def dequeue(self):\n",
    "        try:\n",
    "            return self.container.pop()\n",
    "        except:\n",
    "            print('queue is empty')\n",
    "            return\n",
    "    \n",
    "    def length(self):\n",
    "        return len(self.container)\n",
    "    \n",
    "q = Queue()\n",
    "q.enqueue({\n",
    "    'company': 'alibaba', 'timestamp': '15 apr, 11:05 AM', 'price': 102\n",
    "})\n",
    "q.enqueue({\n",
    "    'company': 'alibaba', 'timestamp': '15 apr, 11:15 AM', 'price': 120\n",
    "})\n",
    "q.enqueue({\n",
    "    'company': 'alibaba', 'timestamp': '15 apr, 11:30 AM', 'price': 150\n",
    "})\n",
    "q.container\n",
    "q.dequeue()       \n"
   ]
  },
  {
   "cell_type": "code",
   "execution_count": 11,
   "id": "9f1e53b6",
   "metadata": {},
   "outputs": [
    {
     "data": {
      "text/plain": [
       "deque([{'company': 'alibaba', 'timestamp': '15 apr, 11:30 AM', 'price': 150},\n",
       "       {'company': 'alibaba', 'timestamp': '15 apr, 11:15 AM', 'price': 120}])"
      ]
     },
     "execution_count": 11,
     "metadata": {},
     "output_type": "execute_result"
    }
   ],
   "source": [
    "q.container"
   ]
  },
  {
   "cell_type": "markdown",
   "id": "3b22fbd4",
   "metadata": {},
   "source": [
    "1. design a food ordering system where your python program will run two threads.\n",
    "\n",
    "- place order: this will be placing an order and inserting that ino a queue. this thread places new order every 0.5 seconds(hint, use time.sleep(0.5))\n",
    "- serve order: this will serve the order. all you need to do is pop the order out of the queue and print it. this thread serves an order every 2 seconds. also start this thread 1 second after place order thread is started.\n",
    "\n",
    "2. write a program to print binary numbers from 1 to 10 using queue class \n",
    "\n",
    "1\n",
    "\n",
    "10\n",
    "\n",
    "11\n",
    "\n",
    "100\n",
    "\n",
    "101\n",
    "\n",
    "110\n",
    "\n",
    "111\n",
    "\n",
    "1000\n",
    "\n",
    "1001\n",
    "\n",
    "1010\n",
    "\n",
    "hint: notice the pattern. after 1, the 2nd and 3rd number is 1+0 and 1+1. 4th and 5th numbers are second number(i.e 100) and 2nd number(i.e 10 +1).\n",
    "\n",
    "also add front() function in queue class that can return the front element in the queue"
   ]
  },
  {
   "cell_type": "code",
   "execution_count": 41,
   "id": "650cba55",
   "metadata": {},
   "outputs": [],
   "source": [
    "from random import choice\n",
    "import time\n",
    "\n",
    "class Queue:\n",
    "    def __init__(self):\n",
    "        self.container = deque()\n",
    "        \n",
    "    def enqueue(self, val):\n",
    "        self.container.appendleft(val)\n",
    "        \n",
    "    def dequeue(self):\n",
    "        try:\n",
    "            return self.container.pop()\n",
    "        except:\n",
    "            print('queue is empty')\n",
    "            return\n",
    "    \n",
    "    def place_order(self):\n",
    "        lis = [{'food':'rice', 'time':time.ctime(), 'prince': 900}, {'food':'beans', 'time':time.ctime(), \"price\":1200 }, {'food':'amala', 'time': time.ctime(), 'price': 1000}, {'food':'moi moi', 'time':time.ctime(), 'price': 700}]\n",
    "        count = 0\n",
    "        while count < 20:\n",
    "            time.sleep(0.5)\n",
    "            self.enqueue(choice(lis))\n",
    "            count+=1\n",
    "            \n",
    "    def length(self):\n",
    "        return len(self.container)\n",
    "    \n",
    "    \n",
    "q = Queue()  \n",
    "q.place_order()\n"
   ]
  },
  {
   "cell_type": "code",
   "execution_count": 42,
   "id": "f8444c91",
   "metadata": {},
   "outputs": [
    {
     "data": {
      "text/plain": [
       "deque([{'food': 'amala', 'time': 'Mon Apr 29 13:21:13 2024', 'price': 1000},\n",
       "       {'food': 'rice', 'time': 'Mon Apr 29 13:21:13 2024', 'prince': 900},\n",
       "       {'food': 'beans', 'time': 'Mon Apr 29 13:21:13 2024', 'price': 1200},\n",
       "       {'food': 'beans', 'time': 'Mon Apr 29 13:21:13 2024', 'price': 1200},\n",
       "       {'food': 'beans', 'time': 'Mon Apr 29 13:21:13 2024', 'price': 1200},\n",
       "       {'food': 'beans', 'time': 'Mon Apr 29 13:21:13 2024', 'price': 1200},\n",
       "       {'food': 'moi moi', 'time': 'Mon Apr 29 13:21:13 2024', 'price': 700},\n",
       "       {'food': 'rice', 'time': 'Mon Apr 29 13:21:13 2024', 'prince': 900},\n",
       "       {'food': 'rice', 'time': 'Mon Apr 29 13:21:13 2024', 'prince': 900},\n",
       "       {'food': 'beans', 'time': 'Mon Apr 29 13:21:13 2024', 'price': 1200},\n",
       "       {'food': 'beans', 'time': 'Mon Apr 29 13:21:13 2024', 'price': 1200},\n",
       "       {'food': 'moi moi', 'time': 'Mon Apr 29 13:21:13 2024', 'price': 700},\n",
       "       {'food': 'amala', 'time': 'Mon Apr 29 13:21:13 2024', 'price': 1000},\n",
       "       {'food': 'rice', 'time': 'Mon Apr 29 13:21:13 2024', 'prince': 900},\n",
       "       {'food': 'moi moi', 'time': 'Mon Apr 29 13:21:13 2024', 'price': 700},\n",
       "       {'food': 'beans', 'time': 'Mon Apr 29 13:21:13 2024', 'price': 1200},\n",
       "       {'food': 'moi moi', 'time': 'Mon Apr 29 13:21:13 2024', 'price': 700},\n",
       "       {'food': 'moi moi', 'time': 'Mon Apr 29 13:21:13 2024', 'price': 700},\n",
       "       {'food': 'amala', 'time': 'Mon Apr 29 13:21:13 2024', 'price': 1000},\n",
       "       {'food': 'moi moi', 'time': 'Mon Apr 29 13:21:13 2024', 'price': 700}])"
      ]
     },
     "execution_count": 42,
     "metadata": {},
     "output_type": "execute_result"
    }
   ],
   "source": [
    "q.container"
   ]
  },
  {
   "cell_type": "code",
   "execution_count": 43,
   "id": "f4b15561",
   "metadata": {},
   "outputs": [
    {
     "name": "stdout",
     "output_type": "stream",
     "text": [
      "Placing order for: pizza\n",
      "Placing order for: samosa\n",
      "Now serving:  pizza\n",
      "Placing order for: pasta\n",
      "Placing order for: biryani\n",
      "Placing order for: burger\n",
      "Now serving:  samosa\n",
      "Now serving:  pasta\n",
      "Now serving:  biryani\n",
      "Now serving:  burger\n",
      "Queue is empty\n",
      "Now serving:  None\n",
      "Queue is empty\n",
      "Now serving:  None\n",
      "Queue is empty\n",
      "Now serving:  None\n",
      "Queue is empty\n",
      "Now serving:  None\n",
      "Queue is empty\n",
      "Now serving:  None\n",
      "Queue is empty\n",
      "Now serving:  None\n",
      "Queue is empty\n",
      "Now serving:  None\n",
      "Queue is empty\n",
      "Now serving:  None\n",
      "Queue is empty\n",
      "Now serving:  None\n",
      "Queue is empty\n",
      "Now serving:  None\n",
      "Queue is empty\n",
      "Now serving:  None\n",
      "Queue is empty\n",
      "Now serving:  None\n"
     ]
    }
   ],
   "source": [
    "import threading\n",
    "import time\n",
    "\n",
    "from collections import deque\n",
    "\n",
    "class Queue:\n",
    "    def __init__(self):\n",
    "        self.buffer = deque()\n",
    "\n",
    "    def enqueue(self, val):\n",
    "        self.buffer.appendleft(val)\n",
    "\n",
    "    def dequeue(self):\n",
    "        if len(self.buffer)==0:\n",
    "            print(\"Queue is empty\")\n",
    "            return\n",
    "\n",
    "        return self.buffer.pop()\n",
    "\n",
    "    def is_empty(self):\n",
    "        return len(self.buffer) == 0\n",
    "\n",
    "    def size(self):\n",
    "        return len(self.buffer)\n",
    "\n",
    "food_order_queue = Queue()\n",
    "\n",
    "def place_orders(orders):\n",
    "    for order in orders:\n",
    "        print(\"Placing order for:\",order)\n",
    "        food_order_queue.enqueue(order)\n",
    "        time.sleep(0.5)\n",
    "\n",
    "\n",
    "def serve_orders():\n",
    "    time.sleep(1)\n",
    "    while True:\n",
    "        order = food_order_queue.dequeue()\n",
    "        print(\"Now serving: \",order)\n",
    "        time.sleep(2)\n",
    "\n",
    "if __name__ == '__main__':\n",
    "    orders = ['pizza','samosa','pasta','biryani','burger']\n",
    "    t1 = threading.Thread(target=place_orders, args=(orders,))\n",
    "    t2 = threading.Thread(target=serve_orders)\n",
    "\n",
    "    t1.start()\n",
    "    t2.start()"
   ]
  },
  {
   "cell_type": "code",
   "execution_count": null,
   "id": "c607e05c",
   "metadata": {},
   "outputs": [],
   "source": []
  }
 ],
 "metadata": {
  "kernelspec": {
   "display_name": "Python 3 (ipykernel)",
   "language": "python",
   "name": "python3"
  },
  "language_info": {
   "codemirror_mode": {
    "name": "ipython",
    "version": 3
   },
   "file_extension": ".py",
   "mimetype": "text/x-python",
   "name": "python",
   "nbconvert_exporter": "python",
   "pygments_lexer": "ipython3",
   "version": "3.9.13"
  }
 },
 "nbformat": 4,
 "nbformat_minor": 5
}
