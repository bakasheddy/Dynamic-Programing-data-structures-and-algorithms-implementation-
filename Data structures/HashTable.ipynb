{
 "cells": [
  {
   "cell_type": "code",
   "execution_count": 16,
   "id": "a94caf75",
   "metadata": {},
   "outputs": [
    {
     "name": "stdout",
     "output_type": "stream",
     "text": [
      "22\n",
      "22\n"
     ]
    },
    {
     "data": {
      "text/plain": [
       "[None,\n",
       " None,\n",
       " None,\n",
       " None,\n",
       " None,\n",
       " None,\n",
       " None,\n",
       " None,\n",
       " None,\n",
       " None,\n",
       " None,\n",
       " None,\n",
       " None,\n",
       " None,\n",
       " None,\n",
       " None,\n",
       " None,\n",
       " None,\n",
       " 22,\n",
       " None,\n",
       " None,\n",
       " None,\n",
       " None,\n",
       " None,\n",
       " None,\n",
       " None,\n",
       " None,\n",
       " None,\n",
       " None,\n",
       " None,\n",
       " None,\n",
       " None,\n",
       " None,\n",
       " None,\n",
       " None,\n",
       " None,\n",
       " None,\n",
       " None,\n",
       " None,\n",
       " None,\n",
       " None,\n",
       " None,\n",
       " None,\n",
       " 19,\n",
       " None,\n",
       " None,\n",
       " None,\n",
       " None,\n",
       " None,\n",
       " None,\n",
       " None,\n",
       " None,\n",
       " None,\n",
       " None,\n",
       " None,\n",
       " None,\n",
       " None,\n",
       " None,\n",
       " None,\n",
       " None,\n",
       " None,\n",
       " None,\n",
       " None,\n",
       " None,\n",
       " None,\n",
       " None,\n",
       " None,\n",
       " None,\n",
       " None,\n",
       " None,\n",
       " None,\n",
       " None,\n",
       " None,\n",
       " None,\n",
       " None,\n",
       " None,\n",
       " None,\n",
       " None,\n",
       " None,\n",
       " None,\n",
       " None,\n",
       " None,\n",
       " None,\n",
       " None,\n",
       " None,\n",
       " None,\n",
       " None,\n",
       " None,\n",
       " None,\n",
       " None,\n",
       " None,\n",
       " None,\n",
       " None,\n",
       " None,\n",
       " None,\n",
       " None,\n",
       " None,\n",
       " None,\n",
       " None,\n",
       " None]"
      ]
     },
     "execution_count": 16,
     "metadata": {},
     "output_type": "execute_result"
    }
   ],
   "source": [
    "class Hash:\n",
    "    def __init__(self):\n",
    "        self.max = 100\n",
    "        self.arr = [None for i in range(self.max)]\n",
    "        \n",
    "    def hash_func(self, a_key):\n",
    "        h = 0\n",
    "        for i in a_key:\n",
    "            h += ord(i)\n",
    "        return h % self.max\n",
    "    \n",
    "    def __setitem__(self, key, val):\n",
    "        h = self.hash_func(key)\n",
    "        self.arr[h] = val\n",
    "        \n",
    "    def __getitem__(self, key):\n",
    "        h = self.hash_func(key)\n",
    "        return self.arr[h]\n",
    "    \n",
    "    def __delitem__(self,key):\n",
    "        h = self.hash_func(key)\n",
    "        self.arr[h] = None\n",
    "    \n",
    "HM = Hash()\n",
    "HM['fine'] = 23\n",
    "HM['heat'] = 22\n",
    "HM['pint'] = 19\n",
    "del HM['hot']\n",
    "print(HM['fine'])\n",
    "print(HM['heat'])\n",
    "HM.arr\n"
   ]
  },
  {
   "cell_type": "markdown",
   "id": "13e5c57a",
   "metadata": {},
   "source": [
    "#### Handling collisions(chaining)"
   ]
  },
  {
   "cell_type": "code",
   "execution_count": 18,
   "id": "8ecb8a43",
   "metadata": {},
   "outputs": [
    {
     "name": "stdout",
     "output_type": "stream",
     "text": [
      "23\n"
     ]
    },
    {
     "data": {
      "text/plain": [
       "[[],\n",
       " [],\n",
       " [],\n",
       " [],\n",
       " [],\n",
       " [],\n",
       " [],\n",
       " [],\n",
       " [],\n",
       " [],\n",
       " [],\n",
       " [],\n",
       " [],\n",
       " [],\n",
       " [],\n",
       " [],\n",
       " [],\n",
       " [],\n",
       " [('fine', 23), ('heat', 22)],\n",
       " [],\n",
       " [],\n",
       " [],\n",
       " [],\n",
       " [],\n",
       " [],\n",
       " [],\n",
       " [],\n",
       " [],\n",
       " [],\n",
       " [],\n",
       " [],\n",
       " [],\n",
       " [],\n",
       " [],\n",
       " [],\n",
       " [],\n",
       " [],\n",
       " [],\n",
       " [],\n",
       " [],\n",
       " [],\n",
       " [],\n",
       " [],\n",
       " [('pint', 19)],\n",
       " [],\n",
       " [],\n",
       " [],\n",
       " [],\n",
       " [],\n",
       " [],\n",
       " [],\n",
       " [],\n",
       " [],\n",
       " [],\n",
       " [],\n",
       " [],\n",
       " [],\n",
       " [],\n",
       " [],\n",
       " [],\n",
       " [],\n",
       " [],\n",
       " [],\n",
       " [],\n",
       " [],\n",
       " [],\n",
       " [],\n",
       " [],\n",
       " [],\n",
       " [],\n",
       " [],\n",
       " [],\n",
       " [],\n",
       " [],\n",
       " [],\n",
       " [],\n",
       " [],\n",
       " [],\n",
       " [],\n",
       " [],\n",
       " [],\n",
       " [],\n",
       " [],\n",
       " [],\n",
       " [],\n",
       " [],\n",
       " [],\n",
       " [],\n",
       " [],\n",
       " [],\n",
       " [],\n",
       " [],\n",
       " [],\n",
       " [],\n",
       " [],\n",
       " [],\n",
       " [],\n",
       " [],\n",
       " [],\n",
       " []]"
      ]
     },
     "execution_count": 18,
     "metadata": {},
     "output_type": "execute_result"
    }
   ],
   "source": [
    "class Hash:\n",
    "    def __init__(self):\n",
    "        self.max = 100\n",
    "        self.arr = [[] for _ in range(self.max)]\n",
    "        \n",
    "    def hash_func(self, a_key):\n",
    "        h = 0\n",
    "        for i in a_key:\n",
    "            h += ord(i)\n",
    "        return h % self.max\n",
    "    \n",
    "    def __setitem__(self, key, val):\n",
    "        h = self.hash_func(key)\n",
    "        found = False\n",
    "        for indx, element in enumerate(self.arr[h]):\n",
    "            if len(element) == 2 and element[0] == key:\n",
    "                self.arr[h][indx] = (key, val)#here\n",
    "                found = True\n",
    "                break\n",
    "        if not found:    \n",
    "            self.arr[h].append((key, val))\n",
    "        \n",
    "    def __getitem__(self, key):\n",
    "        h = self.hash_func(key)\n",
    "        for i in self.arr[h]:\n",
    "            if i[0] == key:\n",
    "                return i[1]\n",
    "    \n",
    "    def __delitem__(self, key):\n",
    "        h = self.hash_func(key)\n",
    "        for indx, element in enumerate(self.arr[h]):\n",
    "            if element[0] == key:\n",
    "                del self.arr[h][indx]\n",
    "                break\n",
    "    \n",
    "HM = Hash()\n",
    "HM['fine'] = 23\n",
    "HM['heat'] = 22\n",
    "HM['pint'] = 19\n",
    "del HM['hot']\n",
    "print(HM['fine'])\n",
    "\n",
    "HM.arr"
   ]
  },
  {
   "cell_type": "code",
   "execution_count": 19,
   "id": "6bdd33b9",
   "metadata": {},
   "outputs": [],
   "source": [
    "import pandas as pd\n",
    "import random\n",
    "from datetime import datetime, timedelta\n",
    "\n",
    "# Define the start and end dates\n",
    "start_date = datetime(2024, 1, 1)\n",
    "end_date = datetime(2024, 1, 30)\n",
    "\n",
    "# Generate list of dates\n",
    "date_range = [start_date + timedelta(days=i) for i in range((end_date - start_date).days + 1)]\n",
    "\n",
    "# Generate random weather temperatures\n",
    "weather_temperatures = [random.randint(20, 60) for _ in range(len(date_range))]\n",
    "\n",
    "# Create DataFrame\n",
    "weather_df = pd.DataFrame({\n",
    "    'Date': date_range,\n",
    "    'Weather (F)': weather_temperatures\n",
    "})\n",
    "\n",
    "# Convert date to string\n",
    "weather_df['Date'] = weather_df['Date'].dt.strftime('%Y-%m-%d')\n",
    "\n",
    "# Save DataFrame to CSV\n",
    "weather_df.to_csv('new_york_weather.csv', index=False)\n"
   ]
  },
  {
   "cell_type": "code",
   "execution_count": 20,
   "id": "39f15d48",
   "metadata": {},
   "outputs": [],
   "source": [
    "df = pd.read_csv('new_york_weather.csv')"
   ]
  },
  {
   "cell_type": "code",
   "execution_count": 21,
   "id": "7e58f673",
   "metadata": {},
   "outputs": [
    {
     "data": {
      "text/html": [
       "<div>\n",
       "<style scoped>\n",
       "    .dataframe tbody tr th:only-of-type {\n",
       "        vertical-align: middle;\n",
       "    }\n",
       "\n",
       "    .dataframe tbody tr th {\n",
       "        vertical-align: top;\n",
       "    }\n",
       "\n",
       "    .dataframe thead th {\n",
       "        text-align: right;\n",
       "    }\n",
       "</style>\n",
       "<table border=\"1\" class=\"dataframe\">\n",
       "  <thead>\n",
       "    <tr style=\"text-align: right;\">\n",
       "      <th></th>\n",
       "      <th>Date</th>\n",
       "      <th>Weather (F)</th>\n",
       "    </tr>\n",
       "  </thead>\n",
       "  <tbody>\n",
       "    <tr>\n",
       "      <th>0</th>\n",
       "      <td>2024-01-01</td>\n",
       "      <td>25</td>\n",
       "    </tr>\n",
       "    <tr>\n",
       "      <th>1</th>\n",
       "      <td>2024-01-02</td>\n",
       "      <td>32</td>\n",
       "    </tr>\n",
       "    <tr>\n",
       "      <th>2</th>\n",
       "      <td>2024-01-03</td>\n",
       "      <td>57</td>\n",
       "    </tr>\n",
       "    <tr>\n",
       "      <th>3</th>\n",
       "      <td>2024-01-04</td>\n",
       "      <td>55</td>\n",
       "    </tr>\n",
       "    <tr>\n",
       "      <th>4</th>\n",
       "      <td>2024-01-05</td>\n",
       "      <td>45</td>\n",
       "    </tr>\n",
       "    <tr>\n",
       "      <th>5</th>\n",
       "      <td>2024-01-06</td>\n",
       "      <td>58</td>\n",
       "    </tr>\n",
       "    <tr>\n",
       "      <th>6</th>\n",
       "      <td>2024-01-07</td>\n",
       "      <td>44</td>\n",
       "    </tr>\n",
       "    <tr>\n",
       "      <th>7</th>\n",
       "      <td>2024-01-08</td>\n",
       "      <td>59</td>\n",
       "    </tr>\n",
       "    <tr>\n",
       "      <th>8</th>\n",
       "      <td>2024-01-09</td>\n",
       "      <td>26</td>\n",
       "    </tr>\n",
       "    <tr>\n",
       "      <th>9</th>\n",
       "      <td>2024-01-10</td>\n",
       "      <td>37</td>\n",
       "    </tr>\n",
       "    <tr>\n",
       "      <th>10</th>\n",
       "      <td>2024-01-11</td>\n",
       "      <td>20</td>\n",
       "    </tr>\n",
       "    <tr>\n",
       "      <th>11</th>\n",
       "      <td>2024-01-12</td>\n",
       "      <td>42</td>\n",
       "    </tr>\n",
       "    <tr>\n",
       "      <th>12</th>\n",
       "      <td>2024-01-13</td>\n",
       "      <td>33</td>\n",
       "    </tr>\n",
       "    <tr>\n",
       "      <th>13</th>\n",
       "      <td>2024-01-14</td>\n",
       "      <td>55</td>\n",
       "    </tr>\n",
       "    <tr>\n",
       "      <th>14</th>\n",
       "      <td>2024-01-15</td>\n",
       "      <td>27</td>\n",
       "    </tr>\n",
       "    <tr>\n",
       "      <th>15</th>\n",
       "      <td>2024-01-16</td>\n",
       "      <td>50</td>\n",
       "    </tr>\n",
       "    <tr>\n",
       "      <th>16</th>\n",
       "      <td>2024-01-17</td>\n",
       "      <td>46</td>\n",
       "    </tr>\n",
       "    <tr>\n",
       "      <th>17</th>\n",
       "      <td>2024-01-18</td>\n",
       "      <td>59</td>\n",
       "    </tr>\n",
       "    <tr>\n",
       "      <th>18</th>\n",
       "      <td>2024-01-19</td>\n",
       "      <td>35</td>\n",
       "    </tr>\n",
       "    <tr>\n",
       "      <th>19</th>\n",
       "      <td>2024-01-20</td>\n",
       "      <td>38</td>\n",
       "    </tr>\n",
       "    <tr>\n",
       "      <th>20</th>\n",
       "      <td>2024-01-21</td>\n",
       "      <td>50</td>\n",
       "    </tr>\n",
       "    <tr>\n",
       "      <th>21</th>\n",
       "      <td>2024-01-22</td>\n",
       "      <td>58</td>\n",
       "    </tr>\n",
       "    <tr>\n",
       "      <th>22</th>\n",
       "      <td>2024-01-23</td>\n",
       "      <td>57</td>\n",
       "    </tr>\n",
       "    <tr>\n",
       "      <th>23</th>\n",
       "      <td>2024-01-24</td>\n",
       "      <td>57</td>\n",
       "    </tr>\n",
       "    <tr>\n",
       "      <th>24</th>\n",
       "      <td>2024-01-25</td>\n",
       "      <td>43</td>\n",
       "    </tr>\n",
       "    <tr>\n",
       "      <th>25</th>\n",
       "      <td>2024-01-26</td>\n",
       "      <td>33</td>\n",
       "    </tr>\n",
       "    <tr>\n",
       "      <th>26</th>\n",
       "      <td>2024-01-27</td>\n",
       "      <td>31</td>\n",
       "    </tr>\n",
       "    <tr>\n",
       "      <th>27</th>\n",
       "      <td>2024-01-28</td>\n",
       "      <td>31</td>\n",
       "    </tr>\n",
       "    <tr>\n",
       "      <th>28</th>\n",
       "      <td>2024-01-29</td>\n",
       "      <td>39</td>\n",
       "    </tr>\n",
       "    <tr>\n",
       "      <th>29</th>\n",
       "      <td>2024-01-30</td>\n",
       "      <td>28</td>\n",
       "    </tr>\n",
       "  </tbody>\n",
       "</table>\n",
       "</div>"
      ],
      "text/plain": [
       "          Date  Weather (F)\n",
       "0   2024-01-01           25\n",
       "1   2024-01-02           32\n",
       "2   2024-01-03           57\n",
       "3   2024-01-04           55\n",
       "4   2024-01-05           45\n",
       "5   2024-01-06           58\n",
       "6   2024-01-07           44\n",
       "7   2024-01-08           59\n",
       "8   2024-01-09           26\n",
       "9   2024-01-10           37\n",
       "10  2024-01-11           20\n",
       "11  2024-01-12           42\n",
       "12  2024-01-13           33\n",
       "13  2024-01-14           55\n",
       "14  2024-01-15           27\n",
       "15  2024-01-16           50\n",
       "16  2024-01-17           46\n",
       "17  2024-01-18           59\n",
       "18  2024-01-19           35\n",
       "19  2024-01-20           38\n",
       "20  2024-01-21           50\n",
       "21  2024-01-22           58\n",
       "22  2024-01-23           57\n",
       "23  2024-01-24           57\n",
       "24  2024-01-25           43\n",
       "25  2024-01-26           33\n",
       "26  2024-01-27           31\n",
       "27  2024-01-28           31\n",
       "28  2024-01-29           39\n",
       "29  2024-01-30           28"
      ]
     },
     "execution_count": 21,
     "metadata": {},
     "output_type": "execute_result"
    }
   ],
   "source": [
    "df"
   ]
  },
  {
   "cell_type": "code",
   "execution_count": 45,
   "id": "806cbfe2",
   "metadata": {},
   "outputs": [
    {
     "data": {
      "text/plain": [
       "45.142857142857146"
      ]
     },
     "execution_count": 45,
     "metadata": {},
     "output_type": "execute_result"
    }
   ],
   "source": [
    "df['Weather (F)'][:7].mean()"
   ]
  },
  {
   "cell_type": "code",
   "execution_count": 46,
   "id": "68cb3d43",
   "metadata": {},
   "outputs": [
    {
     "data": {
      "text/plain": [
       "59"
      ]
     },
     "execution_count": 46,
     "metadata": {},
     "output_type": "execute_result"
    }
   ],
   "source": [
    "df['Weather (F)'][:10].max()"
   ]
  },
  {
   "cell_type": "code",
   "execution_count": 53,
   "id": "5bbd3f18",
   "metadata": {},
   "outputs": [
    {
     "data": {
      "text/html": [
       "<div>\n",
       "<style scoped>\n",
       "    .dataframe tbody tr th:only-of-type {\n",
       "        vertical-align: middle;\n",
       "    }\n",
       "\n",
       "    .dataframe tbody tr th {\n",
       "        vertical-align: top;\n",
       "    }\n",
       "\n",
       "    .dataframe thead th {\n",
       "        text-align: right;\n",
       "    }\n",
       "</style>\n",
       "<table border=\"1\" class=\"dataframe\">\n",
       "  <thead>\n",
       "    <tr style=\"text-align: right;\">\n",
       "      <th></th>\n",
       "      <th>Date</th>\n",
       "      <th>Weather (F)</th>\n",
       "    </tr>\n",
       "  </thead>\n",
       "  <tbody>\n",
       "    <tr>\n",
       "      <th>8</th>\n",
       "      <td>2024-01-09</td>\n",
       "      <td>26</td>\n",
       "    </tr>\n",
       "  </tbody>\n",
       "</table>\n",
       "</div>"
      ],
      "text/plain": [
       "         Date  Weather (F)\n",
       "8  2024-01-09           26"
      ]
     },
     "execution_count": 53,
     "metadata": {},
     "output_type": "execute_result"
    }
   ],
   "source": [
    "df[df['Date'] == '2024-01-09']"
   ]
  },
  {
   "cell_type": "code",
   "execution_count": 54,
   "id": "7a699aaa",
   "metadata": {},
   "outputs": [
    {
     "data": {
      "text/html": [
       "<div>\n",
       "<style scoped>\n",
       "    .dataframe tbody tr th:only-of-type {\n",
       "        vertical-align: middle;\n",
       "    }\n",
       "\n",
       "    .dataframe tbody tr th {\n",
       "        vertical-align: top;\n",
       "    }\n",
       "\n",
       "    .dataframe thead th {\n",
       "        text-align: right;\n",
       "    }\n",
       "</style>\n",
       "<table border=\"1\" class=\"dataframe\">\n",
       "  <thead>\n",
       "    <tr style=\"text-align: right;\">\n",
       "      <th></th>\n",
       "      <th>Date</th>\n",
       "      <th>Weather (F)</th>\n",
       "    </tr>\n",
       "  </thead>\n",
       "  <tbody>\n",
       "    <tr>\n",
       "      <th>3</th>\n",
       "      <td>2024-01-04</td>\n",
       "      <td>55</td>\n",
       "    </tr>\n",
       "  </tbody>\n",
       "</table>\n",
       "</div>"
      ],
      "text/plain": [
       "         Date  Weather (F)\n",
       "3  2024-01-04           55"
      ]
     },
     "execution_count": 54,
     "metadata": {},
     "output_type": "execute_result"
    }
   ],
   "source": [
    "df[df['Date'] == '2024-01-04']"
   ]
  },
  {
   "cell_type": "markdown",
   "id": "084684ee",
   "metadata": {},
   "source": [
    "1. a. what is the average temperature in firest week of jan\n",
    "\n",
    "    b. what is the max temperature in first 10 days of jan\n",
    "    \n",
    "2. what wass the temp on jan 9\n",
    "    what was the temp on jan 43\n",
    "    \n",
    "3. 'road not taken' by poet robert frost\n",
    "read file into python and print every word and it's count; think of the data structure for this"
   ]
  },
  {
   "cell_type": "code",
   "execution_count": 23,
   "id": "d38eec15",
   "metadata": {},
   "outputs": [
    {
     "name": "stdout",
     "output_type": "stream",
     "text": [
      "Invalid temperature.Ignore the row\n"
     ]
    }
   ],
   "source": [
    "arr = []\n",
    "\n",
    "with open(\"new_york_weather.csv\",\"r\") as f:\n",
    "    for line in f:\n",
    "        tokens = line.split(',')\n",
    "        try:\n",
    "            temperature = int(tokens[1])\n",
    "            arr.append(temperature)\n",
    "        except:\n",
    "            print(\"Invalid temperature.Ignore the row\")"
   ]
  },
  {
   "cell_type": "code",
   "execution_count": 31,
   "id": "c41ccd33",
   "metadata": {},
   "outputs": [
    {
     "data": {
      "text/plain": [
       "45.142857142857146"
      ]
     },
     "execution_count": 31,
     "metadata": {},
     "output_type": "execute_result"
    }
   ],
   "source": [
    "sum(arr[:7]) / len(arr[:7])"
   ]
  },
  {
   "cell_type": "code",
   "execution_count": 32,
   "id": "6100f184",
   "metadata": {},
   "outputs": [
    {
     "data": {
      "text/plain": [
       "59"
      ]
     },
     "execution_count": 32,
     "metadata": {},
     "output_type": "execute_result"
    }
   ],
   "source": [
    "max(arr[:10])"
   ]
  },
  {
   "cell_type": "code",
   "execution_count": 40,
   "id": "88370d69",
   "metadata": {},
   "outputs": [
    {
     "name": "stdout",
     "output_type": "stream",
     "text": [
      "Invalid temperature.Ignore the row\n"
     ]
    }
   ],
   "source": [
    "weather_dict = {}\n",
    "\n",
    "with open(\"new_york_weather.csv\",\"r\") as f:\n",
    "    for line in f:\n",
    "        tokens = line.split(',')\n",
    "        day = tokens[0]\n",
    "        try:\n",
    "            temperature = int(tokens[1])\n",
    "            weather_dict[day] = temperature\n",
    "        except:\n",
    "            print(\"Invalid temperature.Ignore the row\")"
   ]
  },
  {
   "cell_type": "code",
   "execution_count": 44,
   "id": "411d248f",
   "metadata": {},
   "outputs": [
    {
     "data": {
      "text/plain": [
       "{'2024-01-01': 25,\n",
       " '2024-01-02': 32,\n",
       " '2024-01-03': 57,\n",
       " '2024-01-04': 55,\n",
       " '2024-01-05': 45,\n",
       " '2024-01-06': 58,\n",
       " '2024-01-07': 44,\n",
       " '2024-01-08': 59,\n",
       " '2024-01-09': 26,\n",
       " '2024-01-10': 37,\n",
       " '2024-01-11': 20,\n",
       " '2024-01-12': 42,\n",
       " '2024-01-13': 33,\n",
       " '2024-01-14': 55,\n",
       " '2024-01-15': 27,\n",
       " '2024-01-16': 50,\n",
       " '2024-01-17': 46,\n",
       " '2024-01-18': 59,\n",
       " '2024-01-19': 35,\n",
       " '2024-01-20': 38,\n",
       " '2024-01-21': 50,\n",
       " '2024-01-22': 58,\n",
       " '2024-01-23': 57,\n",
       " '2024-01-24': 57,\n",
       " '2024-01-25': 43,\n",
       " '2024-01-26': 33,\n",
       " '2024-01-27': 31,\n",
       " '2024-01-28': 31,\n",
       " '2024-01-29': 39,\n",
       " '2024-01-30': 28}"
      ]
     },
     "execution_count": 44,
     "metadata": {},
     "output_type": "execute_result"
    }
   ],
   "source": [
    "weather_dict"
   ]
  },
  {
   "cell_type": "code",
   "execution_count": 55,
   "id": "2259623f",
   "metadata": {},
   "outputs": [
    {
     "data": {
      "text/plain": [
       "45"
      ]
     },
     "execution_count": 55,
     "metadata": {},
     "output_type": "execute_result"
    }
   ],
   "source": [
    "weather_dict['2024-01-05']"
   ]
  },
  {
   "cell_type": "code",
   "execution_count": 56,
   "id": "d68451be",
   "metadata": {},
   "outputs": [
    {
     "data": {
      "text/plain": [
       "26"
      ]
     },
     "execution_count": 56,
     "metadata": {},
     "output_type": "execute_result"
    }
   ],
   "source": [
    "weather_dict['2024-01-09']"
   ]
  },
  {
   "cell_type": "code",
   "execution_count": null,
   "id": "c629bbf9",
   "metadata": {},
   "outputs": [],
   "source": []
  }
 ],
 "metadata": {
  "kernelspec": {
   "display_name": "Python 3 (ipykernel)",
   "language": "python",
   "name": "python3"
  },
  "language_info": {
   "codemirror_mode": {
    "name": "ipython",
    "version": 3
   },
   "file_extension": ".py",
   "mimetype": "text/x-python",
   "name": "python",
   "nbconvert_exporter": "python",
   "pygments_lexer": "ipython3",
   "version": "3.9.13"
  }
 },
 "nbformat": 4,
 "nbformat_minor": 5
}
