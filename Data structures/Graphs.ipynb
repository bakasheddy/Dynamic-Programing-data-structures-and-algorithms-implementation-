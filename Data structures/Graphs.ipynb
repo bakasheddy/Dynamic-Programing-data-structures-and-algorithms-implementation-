{
 "cells": [
  {
   "cell_type": "code",
   "execution_count": 2,
   "id": "eba20a5d",
   "metadata": {},
   "outputs": [
    {
     "name": "stdout",
     "output_type": "stream",
     "text": [
      "{'abuja': ['lagos', 'jos'], 'lagos': ['jos', 'minna'], 'jos': ['minna'], 'minna': ['kaduna']}\n"
     ]
    }
   ],
   "source": [
    "class Graph:\n",
    "    def __init__(self, edges):\n",
    "        self.edges = edges\n",
    "        self.graph_dict = {}\n",
    "        for start, end in self.edges:\n",
    "            if start in self.graph_dict:\n",
    "                self.graph_dict[start].append(end)\n",
    "            else:\n",
    "                self.graph_dict[start] = [end]\n",
    "        print(self.graph_dict)\n",
    "        \n",
    "if __name__ == '__main__':  \n",
    "    routes = [\n",
    "        ('abuja', 'lagos'),\n",
    "        ('abuja', 'jos'),\n",
    "        ('lagos', 'jos'),\n",
    "        ('lagos', 'minna'),\n",
    "        ('jos', 'minna'),\n",
    "        ('minna', 'kaduna')\n",
    "    ]\n",
    "    \n",
    "    route_graph = Graph(routes)"
   ]
  },
  {
   "cell_type": "code",
   "execution_count": null,
   "id": "6268cef4",
   "metadata": {},
   "outputs": [],
   "source": []
  }
 ],
 "metadata": {
  "kernelspec": {
   "display_name": "Python 3 (ipykernel)",
   "language": "python",
   "name": "python3"
  },
  "language_info": {
   "codemirror_mode": {
    "name": "ipython",
    "version": 3
   },
   "file_extension": ".py",
   "mimetype": "text/x-python",
   "name": "python",
   "nbconvert_exporter": "python",
   "pygments_lexer": "ipython3",
   "version": "3.9.13"
  }
 },
 "nbformat": 4,
 "nbformat_minor": 5
}
